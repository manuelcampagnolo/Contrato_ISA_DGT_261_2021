{
  "cells": [
    {
      "cell_type": "markdown",
      "metadata": {
        "id": "ZhHD-Wu2gSqv"
      },
      "source": [
        "# Single Label Classification with Computer Vision (Beginner)\n",
        "> Covering how to perform single-label classification with the PETs dataset"
      ]
    },
    {
      "cell_type": "code",
      "source": [
        "!pip install wwf"
      ],
      "metadata": {
        "colab": {
          "base_uri": "https://localhost:8080/"
        },
        "id": "HR8MjawKhdl6",
        "outputId": "40aa4307-1104-45bf-c35f-b0a1fad4c578"
      },
      "execution_count": 1,
      "outputs": [
        {
          "output_type": "stream",
          "name": "stdout",
          "text": [
            "Looking in indexes: https://pypi.org/simple, https://us-python.pkg.dev/colab-wheels/public/simple/\n",
            "Collecting wwf\n",
            "  Downloading wwf-0.0.16-py3-none-any.whl (20 kB)\n",
            "Collecting timm>=0.3.4\n",
            "  Downloading timm-0.6.12-py3-none-any.whl (549 kB)\n",
            "\u001b[2K     \u001b[90m━━━━━━━━━━━━━━━━━━━━━━━━━━━━━━━━━━━━━━\u001b[0m \u001b[32m549.1/549.1 KB\u001b[0m \u001b[31m11.0 MB/s\u001b[0m eta \u001b[36m0:00:00\u001b[0m\n",
            "\u001b[?25hRequirement already satisfied: fastai>=2.0.0 in /usr/local/lib/python3.8/dist-packages (from wwf) (2.7.11)\n",
            "Requirement already satisfied: fastcore>=1.0.0 in /usr/local/lib/python3.8/dist-packages (from wwf) (1.5.28)\n",
            "Requirement already satisfied: pillow>6.0.0 in /usr/local/lib/python3.8/dist-packages (from fastai>=2.0.0->wwf) (8.4.0)\n",
            "Requirement already satisfied: scikit-learn in /usr/local/lib/python3.8/dist-packages (from fastai>=2.0.0->wwf) (1.0.2)\n",
            "Requirement already satisfied: pandas in /usr/local/lib/python3.8/dist-packages (from fastai>=2.0.0->wwf) (1.3.5)\n",
            "Requirement already satisfied: scipy in /usr/local/lib/python3.8/dist-packages (from fastai>=2.0.0->wwf) (1.7.3)\n",
            "Requirement already satisfied: matplotlib in /usr/local/lib/python3.8/dist-packages (from fastai>=2.0.0->wwf) (3.5.3)\n",
            "Requirement already satisfied: spacy<4 in /usr/local/lib/python3.8/dist-packages (from fastai>=2.0.0->wwf) (3.4.4)\n",
            "Requirement already satisfied: packaging in /usr/local/lib/python3.8/dist-packages (from fastai>=2.0.0->wwf) (23.0)\n",
            "Requirement already satisfied: pip in /usr/local/lib/python3.8/dist-packages (from fastai>=2.0.0->wwf) (22.0.4)\n",
            "Requirement already satisfied: pyyaml in /usr/local/lib/python3.8/dist-packages (from fastai>=2.0.0->wwf) (6.0)\n",
            "Requirement already satisfied: fastprogress>=0.2.4 in /usr/local/lib/python3.8/dist-packages (from fastai>=2.0.0->wwf) (1.0.3)\n",
            "Requirement already satisfied: fastdownload<2,>=0.0.5 in /usr/local/lib/python3.8/dist-packages (from fastai>=2.0.0->wwf) (0.0.7)\n",
            "Requirement already satisfied: torch<1.14,>=1.7 in /usr/local/lib/python3.8/dist-packages (from fastai>=2.0.0->wwf) (1.13.1+cu116)\n",
            "Requirement already satisfied: requests in /usr/local/lib/python3.8/dist-packages (from fastai>=2.0.0->wwf) (2.25.1)\n",
            "Requirement already satisfied: torchvision>=0.8.2 in /usr/local/lib/python3.8/dist-packages (from fastai>=2.0.0->wwf) (0.14.1+cu116)\n",
            "Collecting huggingface-hub\n",
            "  Downloading huggingface_hub-0.12.1-py3-none-any.whl (190 kB)\n",
            "\u001b[2K     \u001b[90m━━━━━━━━━━━━━━━━━━━━━━━━━━━━━━━━━━━━━━\u001b[0m \u001b[32m190.3/190.3 KB\u001b[0m \u001b[31m14.1 MB/s\u001b[0m eta \u001b[36m0:00:00\u001b[0m\n",
            "\u001b[?25hRequirement already satisfied: murmurhash<1.1.0,>=0.28.0 in /usr/local/lib/python3.8/dist-packages (from spacy<4->fastai>=2.0.0->wwf) (1.0.9)\n",
            "Requirement already satisfied: srsly<3.0.0,>=2.4.3 in /usr/local/lib/python3.8/dist-packages (from spacy<4->fastai>=2.0.0->wwf) (2.4.5)\n",
            "Requirement already satisfied: spacy-legacy<3.1.0,>=3.0.10 in /usr/local/lib/python3.8/dist-packages (from spacy<4->fastai>=2.0.0->wwf) (3.0.12)\n",
            "Requirement already satisfied: typer<0.8.0,>=0.3.0 in /usr/local/lib/python3.8/dist-packages (from spacy<4->fastai>=2.0.0->wwf) (0.7.0)\n",
            "Requirement already satisfied: wasabi<1.1.0,>=0.9.1 in /usr/local/lib/python3.8/dist-packages (from spacy<4->fastai>=2.0.0->wwf) (0.10.1)\n",
            "Requirement already satisfied: tqdm<5.0.0,>=4.38.0 in /usr/local/lib/python3.8/dist-packages (from spacy<4->fastai>=2.0.0->wwf) (4.64.1)\n",
            "Requirement already satisfied: spacy-loggers<2.0.0,>=1.0.0 in /usr/local/lib/python3.8/dist-packages (from spacy<4->fastai>=2.0.0->wwf) (1.0.4)\n",
            "Requirement already satisfied: numpy>=1.15.0 in /usr/local/lib/python3.8/dist-packages (from spacy<4->fastai>=2.0.0->wwf) (1.22.4)\n",
            "Requirement already satisfied: smart-open<7.0.0,>=5.2.1 in /usr/local/lib/python3.8/dist-packages (from spacy<4->fastai>=2.0.0->wwf) (6.3.0)\n",
            "Requirement already satisfied: catalogue<2.1.0,>=2.0.6 in /usr/local/lib/python3.8/dist-packages (from spacy<4->fastai>=2.0.0->wwf) (2.0.8)\n",
            "Requirement already satisfied: thinc<8.2.0,>=8.1.0 in /usr/local/lib/python3.8/dist-packages (from spacy<4->fastai>=2.0.0->wwf) (8.1.7)\n",
            "Requirement already satisfied: langcodes<4.0.0,>=3.2.0 in /usr/local/lib/python3.8/dist-packages (from spacy<4->fastai>=2.0.0->wwf) (3.3.0)\n",
            "Requirement already satisfied: cymem<2.1.0,>=2.0.2 in /usr/local/lib/python3.8/dist-packages (from spacy<4->fastai>=2.0.0->wwf) (2.0.7)\n",
            "Requirement already satisfied: pydantic!=1.8,!=1.8.1,<1.11.0,>=1.7.4 in /usr/local/lib/python3.8/dist-packages (from spacy<4->fastai>=2.0.0->wwf) (1.10.5)\n",
            "Requirement already satisfied: jinja2 in /usr/local/lib/python3.8/dist-packages (from spacy<4->fastai>=2.0.0->wwf) (3.1.2)\n",
            "Requirement already satisfied: setuptools in /usr/local/lib/python3.8/dist-packages (from spacy<4->fastai>=2.0.0->wwf) (57.4.0)\n",
            "Requirement already satisfied: preshed<3.1.0,>=3.0.2 in /usr/local/lib/python3.8/dist-packages (from spacy<4->fastai>=2.0.0->wwf) (3.0.8)\n",
            "Requirement already satisfied: pathy>=0.3.5 in /usr/local/lib/python3.8/dist-packages (from spacy<4->fastai>=2.0.0->wwf) (0.10.1)\n",
            "Requirement already satisfied: chardet<5,>=3.0.2 in /usr/local/lib/python3.8/dist-packages (from requests->fastai>=2.0.0->wwf) (4.0.0)\n",
            "Requirement already satisfied: urllib3<1.27,>=1.21.1 in /usr/local/lib/python3.8/dist-packages (from requests->fastai>=2.0.0->wwf) (1.26.14)\n",
            "Requirement already satisfied: certifi>=2017.4.17 in /usr/local/lib/python3.8/dist-packages (from requests->fastai>=2.0.0->wwf) (2022.12.7)\n",
            "Requirement already satisfied: idna<3,>=2.5 in /usr/local/lib/python3.8/dist-packages (from requests->fastai>=2.0.0->wwf) (2.10)\n",
            "Requirement already satisfied: typing-extensions in /usr/local/lib/python3.8/dist-packages (from torch<1.14,>=1.7->fastai>=2.0.0->wwf) (4.5.0)\n",
            "Requirement already satisfied: filelock in /usr/local/lib/python3.8/dist-packages (from huggingface-hub->timm>=0.3.4->wwf) (3.9.0)\n",
            "Requirement already satisfied: fonttools>=4.22.0 in /usr/local/lib/python3.8/dist-packages (from matplotlib->fastai>=2.0.0->wwf) (4.38.0)\n",
            "Requirement already satisfied: kiwisolver>=1.0.1 in /usr/local/lib/python3.8/dist-packages (from matplotlib->fastai>=2.0.0->wwf) (1.4.4)\n",
            "Requirement already satisfied: cycler>=0.10 in /usr/local/lib/python3.8/dist-packages (from matplotlib->fastai>=2.0.0->wwf) (0.11.0)\n",
            "Requirement already satisfied: pyparsing>=2.2.1 in /usr/local/lib/python3.8/dist-packages (from matplotlib->fastai>=2.0.0->wwf) (3.0.9)\n",
            "Requirement already satisfied: python-dateutil>=2.7 in /usr/local/lib/python3.8/dist-packages (from matplotlib->fastai>=2.0.0->wwf) (2.8.2)\n",
            "Requirement already satisfied: pytz>=2017.3 in /usr/local/lib/python3.8/dist-packages (from pandas->fastai>=2.0.0->wwf) (2022.7.1)\n",
            "Requirement already satisfied: joblib>=0.11 in /usr/local/lib/python3.8/dist-packages (from scikit-learn->fastai>=2.0.0->wwf) (1.2.0)\n",
            "Requirement already satisfied: threadpoolctl>=2.0.0 in /usr/local/lib/python3.8/dist-packages (from scikit-learn->fastai>=2.0.0->wwf) (3.1.0)\n",
            "Requirement already satisfied: six>=1.5 in /usr/local/lib/python3.8/dist-packages (from python-dateutil>=2.7->matplotlib->fastai>=2.0.0->wwf) (1.15.0)\n",
            "Requirement already satisfied: confection<1.0.0,>=0.0.1 in /usr/local/lib/python3.8/dist-packages (from thinc<8.2.0,>=8.1.0->spacy<4->fastai>=2.0.0->wwf) (0.0.4)\n",
            "Requirement already satisfied: blis<0.8.0,>=0.7.8 in /usr/local/lib/python3.8/dist-packages (from thinc<8.2.0,>=8.1.0->spacy<4->fastai>=2.0.0->wwf) (0.7.9)\n",
            "Requirement already satisfied: click<9.0.0,>=7.1.1 in /usr/local/lib/python3.8/dist-packages (from typer<0.8.0,>=0.3.0->spacy<4->fastai>=2.0.0->wwf) (8.1.3)\n",
            "Requirement already satisfied: MarkupSafe>=2.0 in /usr/local/lib/python3.8/dist-packages (from jinja2->spacy<4->fastai>=2.0.0->wwf) (2.1.2)\n",
            "Installing collected packages: huggingface-hub, timm, wwf\n",
            "Successfully installed huggingface-hub-0.12.1 timm-0.6.12 wwf-0.0.16\n"
          ]
        }
      ]
    },
    {
      "cell_type": "code",
      "source": [
        "!pip install nbdev"
      ],
      "metadata": {
        "colab": {
          "base_uri": "https://localhost:8080/"
        },
        "id": "s1DU2XBfhlGp",
        "outputId": "fb0175b0-ee93-4e82-f184-326c3072ae38"
      },
      "execution_count": 3,
      "outputs": [
        {
          "output_type": "stream",
          "name": "stdout",
          "text": [
            "Looking in indexes: https://pypi.org/simple, https://us-python.pkg.dev/colab-wheels/public/simple/\n",
            "Collecting nbdev\n",
            "  Downloading nbdev-2.3.12-py3-none-any.whl (64 kB)\n",
            "\u001b[2K     \u001b[90m━━━━━━━━━━━━━━━━━━━━━━━━━━━━━━━━━━━━━━━━\u001b[0m \u001b[32m64.8/64.8 KB\u001b[0m \u001b[31m2.6 MB/s\u001b[0m eta \u001b[36m0:00:00\u001b[0m\n",
            "\u001b[?25hRequirement already satisfied: PyYAML in /usr/local/lib/python3.8/dist-packages (from nbdev) (6.0)\n",
            "Requirement already satisfied: astunparse in /usr/local/lib/python3.8/dist-packages (from nbdev) (1.6.3)\n",
            "Requirement already satisfied: fastcore>=1.5.27 in /usr/local/lib/python3.8/dist-packages (from nbdev) (1.5.28)\n",
            "Collecting execnb>=0.1.4\n",
            "  Downloading execnb-0.1.5-py3-none-any.whl (13 kB)\n",
            "Collecting asttokens\n",
            "  Downloading asttokens-2.2.1-py2.py3-none-any.whl (26 kB)\n",
            "Collecting ghapi>=1.0.3\n",
            "  Downloading ghapi-1.0.3-py3-none-any.whl (58 kB)\n",
            "\u001b[2K     \u001b[90m━━━━━━━━━━━━━━━━━━━━━━━━━━━━━━━━━━━━━━━━\u001b[0m \u001b[32m58.1/58.1 KB\u001b[0m \u001b[31m6.3 MB/s\u001b[0m eta \u001b[36m0:00:00\u001b[0m\n",
            "\u001b[?25hCollecting watchdog\n",
            "  Downloading watchdog-2.3.1-py3-none-manylinux2014_x86_64.whl (80 kB)\n",
            "\u001b[2K     \u001b[90m━━━━━━━━━━━━━━━━━━━━━━━━━━━━━━━━━━━━━━━━\u001b[0m \u001b[32m80.6/80.6 KB\u001b[0m \u001b[31m10.0 MB/s\u001b[0m eta \u001b[36m0:00:00\u001b[0m\n",
            "\u001b[?25hRequirement already satisfied: ipython in /usr/local/lib/python3.8/dist-packages (from execnb>=0.1.4->nbdev) (7.9.0)\n",
            "Requirement already satisfied: packaging in /usr/local/lib/python3.8/dist-packages (from fastcore>=1.5.27->nbdev) (23.0)\n",
            "Requirement already satisfied: pip in /usr/local/lib/python3.8/dist-packages (from fastcore>=1.5.27->nbdev) (22.0.4)\n",
            "Requirement already satisfied: six in /usr/local/lib/python3.8/dist-packages (from asttokens->nbdev) (1.15.0)\n",
            "Requirement already satisfied: wheel<1.0,>=0.23.0 in /usr/local/lib/python3.8/dist-packages (from astunparse->nbdev) (0.38.4)\n",
            "Requirement already satisfied: pickleshare in /usr/local/lib/python3.8/dist-packages (from ipython->execnb>=0.1.4->nbdev) (0.7.5)\n",
            "Requirement already satisfied: pexpect in /usr/local/lib/python3.8/dist-packages (from ipython->execnb>=0.1.4->nbdev) (4.8.0)\n",
            "Requirement already satisfied: traitlets>=4.2 in /usr/local/lib/python3.8/dist-packages (from ipython->execnb>=0.1.4->nbdev) (5.7.1)\n",
            "Requirement already satisfied: prompt-toolkit<2.1.0,>=2.0.0 in /usr/local/lib/python3.8/dist-packages (from ipython->execnb>=0.1.4->nbdev) (2.0.10)\n",
            "Requirement already satisfied: decorator in /usr/local/lib/python3.8/dist-packages (from ipython->execnb>=0.1.4->nbdev) (4.4.2)\n",
            "Requirement already satisfied: backcall in /usr/local/lib/python3.8/dist-packages (from ipython->execnb>=0.1.4->nbdev) (0.2.0)\n",
            "Requirement already satisfied: pygments in /usr/local/lib/python3.8/dist-packages (from ipython->execnb>=0.1.4->nbdev) (2.6.1)\n",
            "Requirement already satisfied: setuptools>=18.5 in /usr/local/lib/python3.8/dist-packages (from ipython->execnb>=0.1.4->nbdev) (57.4.0)\n",
            "Collecting jedi>=0.10\n",
            "  Downloading jedi-0.18.2-py2.py3-none-any.whl (1.6 MB)\n",
            "\u001b[2K     \u001b[90m━━━━━━━━━━━━━━━━━━━━━━━━━━━━━━━━━━━━━━━━\u001b[0m \u001b[32m1.6/1.6 MB\u001b[0m \u001b[31m39.7 MB/s\u001b[0m eta \u001b[36m0:00:00\u001b[0m\n",
            "\u001b[?25hRequirement already satisfied: parso<0.9.0,>=0.8.0 in /usr/local/lib/python3.8/dist-packages (from jedi>=0.10->ipython->execnb>=0.1.4->nbdev) (0.8.3)\n",
            "Requirement already satisfied: wcwidth in /usr/local/lib/python3.8/dist-packages (from prompt-toolkit<2.1.0,>=2.0.0->ipython->execnb>=0.1.4->nbdev) (0.2.6)\n",
            "Requirement already satisfied: ptyprocess>=0.5 in /usr/local/lib/python3.8/dist-packages (from pexpect->ipython->execnb>=0.1.4->nbdev) (0.7.0)\n",
            "Installing collected packages: watchdog, jedi, asttokens, ghapi, execnb, nbdev\n",
            "Successfully installed asttokens-2.2.1 execnb-0.1.5 ghapi-1.0.3 jedi-0.18.2 nbdev-2.3.12 watchdog-2.3.1\n"
          ]
        }
      ]
    },
    {
      "cell_type": "code",
      "execution_count": 4,
      "metadata": {
        "id": "CRKAomgFgSqx"
      },
      "outputs": [],
      "source": [
        "#hide\n",
        "from wwf.utils import *\n",
        "from nbdev.showdoc import *"
      ]
    },
    {
      "cell_type": "code",
      "execution_count": 5,
      "metadata": {
        "colab": {
          "base_uri": "https://localhost:8080/",
          "height": 131
        },
        "id": "xg6HBV3pgSqy",
        "outputId": "67fb63e9-c3e0-4c64-d83d-a4f7fdd757a3"
      },
      "outputs": [
        {
          "output_type": "execute_result",
          "data": {
            "text/plain": [
              "<IPython.core.display.Markdown object>"
            ],
            "text/markdown": "\n---\nThis article is also a Jupyter Notebook available to be run from the top down. There\nwill be code snippets that you can then run in any environment.\n\nBelow are the versions of `fastai` and `fastcore` currently running at the time of writing this:\n* `fastai` : 2.7.11 \n* `fastcore` : 1.5.28 \n---"
          },
          "metadata": {},
          "execution_count": 5
        }
      ],
      "source": [
        "#hide_input\n",
        "state_versions(['fastai', 'fastcore'])"
      ]
    },
    {
      "cell_type": "markdown",
      "metadata": {
        "id": "YuhfKKQagSq0"
      },
      "source": [
        "## Introduction\n",
        "\n",
        "This tutorial will cover single-label classification inside of the `fastai` library. It will closely follow the lesson 1 notebook from [A walk with fastai2](https://github.com/muellerzr/Practical-Deep-Learning-for-Coders-2.0/blob/master/Computer%20Vision/01_Pets.ipynb) and if you wish to watch the lecture video it is available [here](https://www.youtube.com/watch?v=bw4PRyxa-y4&list=PLFDkaGxp5BXDvj3oHoKDgEcH73Aze-eET&index=1&t=4340s)"
      ]
    },
    {
      "cell_type": "markdown",
      "metadata": {
        "id": "c_I93RdhgSq1"
      },
      "source": [
        "## Importing the Library and the Dataset\n",
        "\n",
        "First we need to import `fastai`'s `vision` module:"
      ]
    },
    {
      "cell_type": "code",
      "execution_count": 6,
      "metadata": {
        "id": "y-dpXmg9gSq2"
      },
      "outputs": [],
      "source": [
        "from fastai.vision.all import *"
      ]
    },
    {
      "cell_type": "markdown",
      "metadata": {
        "id": "gihougbxgSq2"
      },
      "source": [
        "The `PETs` dataset is designed to try and distinguish between 12 species of cats and 25 species of dogs (37 in total). Five years ago the best accuracy was 59% with seperate classifications for parts of the images cropped to related body parts (the head, body, and overall image). Today's neural networks can perform much better on a task such as this, so we will try to achieve a better result using only the one image."
      ]
    },
    {
      "cell_type": "markdown",
      "metadata": {
        "id": "KkRWEcgDgSq3"
      },
      "source": [
        "But before anything, we need data!\n",
        "\n",
        "To do so we will use the `untar_data` function paired with `URLs.PETS`. This will go ahead and download and extract a `.gz` dataset for us. The `URLs.PETS` denotes the URL where our dataset lives.\n",
        "\n",
        "We can view the documentation for `untar_data` by using the `help` or `doc` functions:"
      ]
    },
    {
      "cell_type": "code",
      "execution_count": 7,
      "metadata": {
        "colab": {
          "base_uri": "https://localhost:8080/"
        },
        "id": "yWcN92QVgSq3",
        "outputId": "8ddd1605-bfa5-4dd2-8617-f118443fae7e"
      },
      "outputs": [
        {
          "output_type": "stream",
          "name": "stdout",
          "text": [
            "Help on function untar_data in module fastai.data.external:\n",
            "\n",
            "untar_data(url: 'str', archive: 'Path' = None, data: 'Path' = None, c_key: 'str' = 'data', force_download: 'bool' = False, base: 'str' = '~/.fastai') -> 'Path'\n",
            "    Download `url` using `FastDownload.get`\n",
            "\n"
          ]
        }
      ],
      "source": [
        "help(untar_data)"
      ]
    },
    {
      "cell_type": "markdown",
      "metadata": {
        "id": "-mtYia_rgSq5"
      },
      "source": [
        "`doc` will pull it up in a pop-up window (run this notebook to see):"
      ]
    },
    {
      "cell_type": "code",
      "execution_count": 8,
      "metadata": {
        "colab": {
          "base_uri": "https://localhost:8080/",
          "height": 175
        },
        "id": "o_BlhLOlgSq5",
        "outputId": "c6feca96-5e1b-4f49-80fa-dc434b3a3eaf"
      },
      "outputs": [
        {
          "output_type": "display_data",
          "data": {
            "text/plain": [
              "<IPython.core.display.HTML object>"
            ],
            "text/html": [
              "<hr/>\n",
              "<h3>untar_data</h3>\n",
              "<blockquote><pre><code>untar_data(url:str, archive:pathlib.Path=None, data:pathlib.Path=None, c_key:str='data', force_download:bool=False, base:str='~/.fastai')</code></pre></blockquote><p>Download `url` using `FastDownload.get`</p>\n",
              "<p><a href=\"https://docs.fast.ai/data.external.html#untar_data\" target=\"_blank\" rel=\"noreferrer noopener\">Show in docs</a></p>"
            ]
          },
          "metadata": {}
        }
      ],
      "source": [
        "doc(untar_data)"
      ]
    },
    {
      "cell_type": "markdown",
      "metadata": {
        "id": "AOQcVsI3gSq6"
      },
      "source": [
        "Along with this if we want to explore the source code for any function, put two `??` after the name of the function and a popup window will appear with the source code!"
      ]
    },
    {
      "cell_type": "code",
      "execution_count": 9,
      "metadata": {
        "id": "kfUAaWqwgSq6"
      },
      "outputs": [],
      "source": [
        "untar_data??"
      ]
    },
    {
      "cell_type": "markdown",
      "metadata": {
        "id": "JSwH8_b-gSq6"
      },
      "source": [
        "Now let's download our dataset:"
      ]
    },
    {
      "cell_type": "code",
      "execution_count": 10,
      "metadata": {
        "colab": {
          "base_uri": "https://localhost:8080/",
          "height": 37
        },
        "id": "Ju_tFteNgSq7",
        "outputId": "0ed5478f-a8ac-44da-8c0c-71fef76390e8"
      },
      "outputs": [
        {
          "output_type": "display_data",
          "data": {
            "text/plain": [
              "<IPython.core.display.HTML object>"
            ],
            "text/html": [
              "\n",
              "<style>\n",
              "    /* Turns off some styling */\n",
              "    progress {\n",
              "        /* gets rid of default border in Firefox and Opera. */\n",
              "        border: none;\n",
              "        /* Needs to be in here for Safari polyfill so background images work as expected. */\n",
              "        background-size: auto;\n",
              "    }\n",
              "    progress:not([value]), progress:not([value])::-webkit-progress-bar {\n",
              "        background: repeating-linear-gradient(45deg, #7e7e7e, #7e7e7e 10px, #5c5c5c 10px, #5c5c5c 20px);\n",
              "    }\n",
              "    .progress-bar-interrupted, .progress-bar-interrupted::-webkit-progress-bar {\n",
              "        background: #F44336;\n",
              "    }\n",
              "</style>\n"
            ]
          },
          "metadata": {}
        },
        {
          "output_type": "display_data",
          "data": {
            "text/plain": [
              "<IPython.core.display.HTML object>"
            ],
            "text/html": [
              "\n",
              "    <div>\n",
              "      <progress value='811712512' class='' max='811706944' style='width:300px; height:20px; vertical-align: middle;'></progress>\n",
              "      100.00% [811712512/811706944 00:13&lt;00:00]\n",
              "    </div>\n",
              "    "
            ]
          },
          "metadata": {}
        }
      ],
      "source": [
        "path = untar_data(URLs.PETS)"
      ]
    },
    {
      "cell_type": "markdown",
      "metadata": {
        "id": "lIR59ZN_gSq8"
      },
      "source": [
        "We can see the location of where our data was stored by checking what `path` contains:"
      ]
    },
    {
      "cell_type": "code",
      "execution_count": 11,
      "metadata": {
        "colab": {
          "base_uri": "https://localhost:8080/"
        },
        "id": "ncsXEQxMgSq8",
        "outputId": "9cf1992c-989b-4d11-f5cc-d5d5376e3acd"
      },
      "outputs": [
        {
          "output_type": "execute_result",
          "data": {
            "text/plain": [
              "Path('/root/.fastai/data/oxford-iiit-pet')"
            ]
          },
          "metadata": {},
          "execution_count": 11
        }
      ],
      "source": [
        "path"
      ]
    },
    {
      "cell_type": "code",
      "source": [
        "path.ls()"
      ],
      "metadata": {
        "colab": {
          "base_uri": "https://localhost:8080/"
        },
        "id": "rUiFPWkkiekA",
        "outputId": "84ff2397-9588-495d-ceee-c7e34c2a6f66"
      },
      "execution_count": 12,
      "outputs": [
        {
          "output_type": "execute_result",
          "data": {
            "text/plain": [
              "(#2) [Path('/root/.fastai/data/oxford-iiit-pet/annotations'),Path('/root/.fastai/data/oxford-iiit-pet/images')]"
            ]
          },
          "metadata": {},
          "execution_count": 12
        }
      ]
    },
    {
      "cell_type": "markdown",
      "metadata": {
        "id": "VazGmwmbgSq9"
      },
      "source": [
        "To make this notebook reproduceable, we can use `fastai`'s `set_seed` function to ensure every possible source of randomness has the same seed:"
      ]
    },
    {
      "cell_type": "code",
      "execution_count": 13,
      "metadata": {
        "id": "k8xjv8DcgSq9"
      },
      "outputs": [],
      "source": [
        "set_seed(2)"
      ]
    },
    {
      "cell_type": "markdown",
      "metadata": {
        "id": "5mzjno5MgSq9"
      },
      "source": [
        "Now let's look at hour our data was stored:"
      ]
    },
    {
      "cell_type": "code",
      "execution_count": 14,
      "metadata": {
        "colab": {
          "base_uri": "https://localhost:8080/"
        },
        "id": "XHG2MEYpgSq9",
        "outputId": "ef1d6b64-ba67-4068-b506-59b80ce472e1"
      },
      "outputs": [
        {
          "output_type": "execute_result",
          "data": {
            "text/plain": [
              "(#2) [Path('/root/.fastai/data/oxford-iiit-pet/annotations'),Path('/root/.fastai/data/oxford-iiit-pet/images')]"
            ]
          },
          "metadata": {},
          "execution_count": 14
        }
      ],
      "source": [
        "path.ls()[:3]"
      ]
    },
    {
      "cell_type": "markdown",
      "metadata": {
        "id": "bbw0L-MxgSq-"
      },
      "source": [
        "We can see a `images` and `annotations` folder. We'll focus on the `images` folder."
      ]
    },
    {
      "cell_type": "markdown",
      "metadata": {
        "id": "v8wzVpMDgSq-"
      },
      "source": [
        "## Building the `DataLoaders`\n",
        "\n",
        "To actually train our neural network model we need to first prepare our dataset for `fastai` to expect it. This comes in the form of `DataLoaders`. We'll show a high-level one-liner usage followed by a `DataBlock` example"
      ]
    },
    {
      "cell_type": "markdown",
      "metadata": {
        "id": "B-PPMz2OgSq-"
      },
      "source": [
        "Since we have the `path` to our data, we'll need to extract the filenames of all the images. \n",
        "\n",
        "`get_image_files` can do this for us, we simply pass in our `path` to where the images are stored: "
      ]
    },
    {
      "cell_type": "code",
      "execution_count": 15,
      "metadata": {
        "id": "i3lT0cpCgSq-"
      },
      "outputs": [],
      "source": [
        "fnames = get_image_files(path/'images')"
      ]
    },
    {
      "cell_type": "code",
      "source": [
        "fnames"
      ],
      "metadata": {
        "colab": {
          "base_uri": "https://localhost:8080/"
        },
        "id": "HdeKOY94jiIQ",
        "outputId": "464da596-40db-414a-afa3-ec1e305aef19"
      },
      "execution_count": 16,
      "outputs": [
        {
          "output_type": "execute_result",
          "data": {
            "text/plain": [
              "(#7390) [Path('/root/.fastai/data/oxford-iiit-pet/images/great_pyrenees_8.jpg'),Path('/root/.fastai/data/oxford-iiit-pet/images/British_Shorthair_103.jpg'),Path('/root/.fastai/data/oxford-iiit-pet/images/Birman_37.jpg'),Path('/root/.fastai/data/oxford-iiit-pet/images/Siamese_100.jpg'),Path('/root/.fastai/data/oxford-iiit-pet/images/Birman_23.jpg'),Path('/root/.fastai/data/oxford-iiit-pet/images/Ragdoll_264.jpg'),Path('/root/.fastai/data/oxford-iiit-pet/images/Bengal_59.jpg'),Path('/root/.fastai/data/oxford-iiit-pet/images/staffordshire_bull_terrier_86.jpg'),Path('/root/.fastai/data/oxford-iiit-pet/images/german_shorthaired_199.jpg'),Path('/root/.fastai/data/oxford-iiit-pet/images/american_bulldog_47.jpg')...]"
            ]
          },
          "metadata": {},
          "execution_count": 16
        }
      ]
    },
    {
      "cell_type": "markdown",
      "metadata": {
        "id": "lNwxYwy5gSq-"
      },
      "source": [
        "Now if we look at a filename, we will see that the filename itself contains our class label. We can use a Regular Expression to extract it. \n",
        "> Do note: throughout this resource you will find multiple ways of completing the same task, so you do not have to follow this example to the letter"
      ]
    },
    {
      "cell_type": "code",
      "execution_count": 90,
      "metadata": {
        "id": "NxnkpcqygSq-"
      },
      "outputs": [],
      "source": [
        "pat = r'/([^/]+)_([0-9]+).*'"
      ]
    },
    {
      "cell_type": "code",
      "source": [
        "print(pat)"
      ],
      "metadata": {
        "colab": {
          "base_uri": "https://localhost:8080/"
        },
        "id": "hOkL_WJbt8YS",
        "outputId": "a42ab006-cedf-4c53-8aa4-453d8b2c47bb"
      },
      "execution_count": 91,
      "outputs": [
        {
          "output_type": "stream",
          "name": "stdout",
          "text": [
            "/([^/]+)_([0-9]+).*\n"
          ]
        }
      ]
    },
    {
      "cell_type": "markdown",
      "metadata": {
        "id": "Ms5u_TOygSq-"
      },
      "source": [
        "With our pattern that can extract our label, let's move onto some basic transforms:"
      ]
    },
    {
      "cell_type": "code",
      "execution_count": 88,
      "metadata": {
        "id": "MA4LdJZDgSq_"
      },
      "outputs": [],
      "source": [
        "item_tfms = RandomResizedCrop(460, min_scale=0.75, ratio=(1.,1.))\n",
        "batch_tfms = [*aug_transforms(size=224, max_warp=0), Normalize.from_stats(*imagenet_stats)]"
      ]
    },
    {
      "cell_type": "markdown",
      "metadata": {
        "id": "ngy7p7TggSrA"
      },
      "source": [
        "> We intend to use a pretrained model for our task, so we need to normalize our data by the original model's data's statistics\n",
        "\n",
        "Along with how many images we want our model to process at one time (a batch size):"
      ]
    },
    {
      "cell_type": "code",
      "execution_count": 86,
      "metadata": {
        "id": "LEwzXL1SgSrA"
      },
      "outputs": [],
      "source": [
        "bs=64"
      ]
    },
    {
      "cell_type": "markdown",
      "metadata": {
        "id": "q7RFzUpzgSrA"
      },
      "source": [
        "Lastly we can build our `DataLoaders`! Let's see a one-liner where we pass it all in\n",
        "> For those familiar with `fastai` v1, this is akin to `ImageDataBunch`"
      ]
    },
    {
      "cell_type": "code",
      "source": [
        "# replaced from_name_re \n",
        "dls = ImageDataLoaders.from_path_re(path, fnames, pat, \n",
        "                                   batch_tfms=batch_tfms,\n",
        "                                   item_tfms=item_tfms, bs=bs)"
      ],
      "metadata": {
        "id": "UUfG5Iz_2b5K"
      },
      "execution_count": 93,
      "outputs": []
    },
    {
      "cell_type": "markdown",
      "metadata": {
        "id": "E-a_SENxgSrB"
      },
      "source": [
        "What about using the `DataBlock` API I keep hearing about? \n",
        "\n",
        "It's a way to formulate a *blueprint* of a data pipeline that can be tweaked more than the factory `xDataLoaders` methods. The version for our problem looks like:"
      ]
    },
    {
      "cell_type": "code",
      "execution_count": 94,
      "metadata": {
        "id": "7UpGeaiUgSrB"
      },
      "outputs": [],
      "source": [
        "pets = DataBlock(blocks=(ImageBlock, CategoryBlock),\n",
        "                 get_items=get_image_files,\n",
        "                 splitter=RandomSplitter(0.2),\n",
        "                 get_y=RegexLabeller(pat = pat),\n",
        "                 item_tfms=item_tfms,\n",
        "                 batch_tfms=batch_tfms)"
      ]
    },
    {
      "cell_type": "markdown",
      "metadata": {
        "id": "z0EvN6HagSrC"
      },
      "source": [
        "Let's break it all down:\n",
        "  * `blocks`: \n",
        "    * `ImageBlock`: Our `x`'s will be images\n",
        "    * `CategoryBlock`: Our `y`s will be a single category label\n",
        "  * `get_items`: How we are getting our data. (when doing image problems you will mostly just use `get_image_files` by default)\n",
        "  * `splitter`: How we want to split our data. \n",
        "    * `RandomSplitter`: Will randomly split the data with 20% in our validation set (by default), with the other 80% in our training data. We can pass in a percentage and a seed. (we won't be doing the latter as we already set a global seed)\n",
        "  * `get_y`: How to extract the labels for our data\n",
        "    * `RegexLabeller`: Uses a Regex `pat` to extract them\n",
        "  * `item` and `batch` tfms are our data augmentation"
      ]
    },
    {
      "cell_type": "markdown",
      "metadata": {
        "id": "UVtLLfisgSrD"
      },
      "source": [
        "So now that we have the blueprint we can build our `DataLoaders` by calling the `.dataloaders` method. We'll need to pass it a location to find our source images as well as that batch size we defined earlier:"
      ]
    },
    {
      "cell_type": "code",
      "execution_count": 95,
      "metadata": {
        "id": "qZPni4dMgSrD"
      },
      "outputs": [],
      "source": [
        "path_im = path/'images'\n",
        "dls = pets.dataloaders(path_im, bs=bs)"
      ]
    },
    {
      "cell_type": "markdown",
      "metadata": {
        "id": "hSINs5uDgSrD"
      },
      "source": [
        "## Looking at the Data\n",
        "\n",
        "Now that the `DataLoaders` have been built we can take a peek at the data and a few special bits and pieces about them. \n",
        "\n",
        "First let's take a look at a batch of data. We can use the `show_batch` function and pass in a maximum number of images to show, as well as how large we want them to appear as in our notebooks. \n",
        "> By default it will show images from the validation `DataLoader`. To show data from the training set, use `dls[0]` rather than `dls`"
      ]
    },
    {
      "cell_type": "code",
      "execution_count": 96,
      "metadata": {
        "colab": {
          "base_uri": "https://localhost:8080/",
          "height": 414
        },
        "id": "sJNcaZ6UgSrE",
        "outputId": "8dede628-97a4-440d-c037-ff4a575dcae7"
      },
      "outputs": [
        {
          "output_type": "display_data",
          "data": {
            "text/plain": [
              "<Figure size 432x504 with 9 Axes>"
            ],
            "image/png": "[encoded data removed]"
          },
          "metadata": {
            "needs_background": "light"
          }
        }
      ],
      "source": [
        "dls.show_batch(max_n=9, figsize=(6,7))"
      ]
    },
    {
      "cell_type": "markdown",
      "metadata": {
        "id": "72qeWEuJgSrF"
      },
      "source": [
        "If we want to see how many classes we have, and the names of them we can simply call `dls.vocab`. The first is the number of classes, the second is the names of our classes. You may notice this looks a bit odd, that's because this `L` is a new invention of Jeremy and Sylvian. Essentially it's a Python list taken to the extreme."
      ]
    },
    {
      "cell_type": "markdown",
      "metadata": {
        "id": "giXo03McgSrF"
      },
      "source": [
        "Before if we wanted to grab the index for the name of a class (eg. our model output 0 as our class), we would need to use `data.c2i` to grab the Class2Index mapping. This is still here, it lives in `dls.vocab.o2i` (Object2ID).\n",
        "\n",
        "It's a dictionary mapping of `name -> value`, so let's only look at the first five (since we have 37 in total!)"
      ]
    },
    {
      "cell_type": "code",
      "source": [
        "type(dls.vocab.o2i)"
      ],
      "metadata": {
        "id": "l0JaPrcq3kph",
        "outputId": "c9bcc6bb-1cef-4748-b80a-2ed12a178b65",
        "colab": {
          "base_uri": "https://localhost:8080/"
        }
      },
      "execution_count": 100,
      "outputs": [
        {
          "output_type": "execute_result",
          "data": {
            "text/plain": [
              "dict"
            ]
          },
          "metadata": {},
          "execution_count": 100
        }
      ]
    },
    {
      "cell_type": "code",
      "execution_count": 97,
      "metadata": {
        "colab": {
          "base_uri": "https://localhost:8080/"
        },
        "id": "WPZeQX9JgSrF",
        "outputId": "06627e9b-9803-4d32-d65e-c595f2d70dec"
      },
      "outputs": [
        {
          "output_type": "execute_result",
          "data": {
            "text/plain": [
              "{'Abyssinian': 0,\n",
              " 'Bengal': 1,\n",
              " 'Birman': 2,\n",
              " 'Bombay': 3,\n",
              " 'British_Shorthair': 4}"
            ]
          },
          "metadata": {},
          "execution_count": 97
        }
      ],
      "source": [
        "{k: dls.vocab.o2i[k] for k in list(dls.vocab.o2i)[:5]}"
      ]
    },
    {
      "cell_type": "markdown",
      "metadata": {
        "id": "JXI3jkl5gSrG"
      },
      "source": [
        "## Time To Make and Train a Model!\n",
        "\n",
        "We will be using a convolutional neural network backbone and a fully connected head with a single hidden layer as our classifier. Don't worry if thats a bunch of nonsense for now. Right now, just know this: we are piggybacking off of a model to help us classify images into 37 categories."
      ]
    },
    {
      "cell_type": "markdown",
      "metadata": {
        "id": "Gb7XscbHgSrG"
      },
      "source": [
        "First we need to make our neural network using a `Learner`. A `Learner` needs (on a basic level):\n",
        "* `DataLoaders`\n",
        "* An architecture\n",
        "* An evaluation metric (not actually required for training)\n",
        "* A loss function\n",
        "* An optimizer\n",
        "\n",
        "We'll also be using `mixed_precision` (fp16).\n",
        "\n",
        "There are many different `Learner` cookie-cutters to use based on what problem you are using it for. Since we're doing transfer learning with CNN's, we will use `cnn_learner` and a ResNet34:"
      ]
    },
    {
      "cell_type": "code",
      "execution_count": 101,
      "metadata": {
        "colab": {
          "base_uri": "https://localhost:8080/",
          "height": 191,
          "referenced_widgets": [
            "cbae00172cd547928f874c9f345a3f2b",
            "2edd3c84ffe34fc5b47e2afdbddde33f",
            "8139635b96234239871e352e7e60ccf9",
            "11c57f26f37e4d1196f349254b5d32c6",
            "628980ff6f01405b92f27a990b36f836",
            "204c8fe5eb74420693fa993f503b8269",
            "55d40d3e021f40ab9e617e31ec493c43",
            "9b3e601b4c9f4ca9be8458240ba1cf41",
            "9bced4d9672c4d8badd70a64ac49583d",
            "e805edb098404d079f9c39dc9a9207d4",
            "4515707c4d264036bc57e54edfbfe4f3"
          ]
        },
        "id": "GsrrSOj3gSrG",
        "outputId": "0e4dbef6-1208-4fb5-bd43-2902f56eff0a"
      },
      "outputs": [
        {
          "output_type": "stream",
          "name": "stderr",
          "text": [
            "/usr/local/lib/python3.8/dist-packages/fastai/vision/learner.py:288: UserWarning: `cnn_learner` has been renamed to `vision_learner` -- please update your code\n",
            "  warn(\"`cnn_learner` has been renamed to `vision_learner` -- please update your code\")\n",
            "/usr/local/lib/python3.8/dist-packages/torchvision/models/_utils.py:208: UserWarning: The parameter 'pretrained' is deprecated since 0.13 and may be removed in the future, please use 'weights' instead.\n",
            "  warnings.warn(\n",
            "/usr/local/lib/python3.8/dist-packages/torchvision/models/_utils.py:223: UserWarning: Arguments other than a weight enum or `None` for 'weights' are deprecated since 0.13 and may be removed in the future. The current behavior is equivalent to passing `weights=ResNet34_Weights.IMAGENET1K_V1`. You can also use `weights=ResNet34_Weights.DEFAULT` to get the most up-to-date weights.\n",
            "  warnings.warn(msg)\n",
            "Downloading: \"https://download.pytorch.org/models/resnet34-b627a593.pth\" to /root/.cache/torch/hub/checkpoints/resnet34-b627a593.pth\n"
          ]
        },
        {
          "output_type": "display_data",
          "data": {
            "text/plain": [
              "  0%|          | 0.00/83.3M [00:00<?, ?B/s]"
            ],
            "application/vnd.jupyter.widget-view+json": {
              "version_major": 2,
              "version_minor": 0,
              "model_id": "cbae00172cd547928f874c9f345a3f2b"
            }
          },
          "metadata": {}
        }
      ],
      "source": [
        "learn = cnn_learner(dls, resnet34, pretrained=True, metrics=error_rate).to_fp16()"
      ]
    },
    {
      "cell_type": "markdown",
      "metadata": {
        "id": "wY-CPdfOgSrH"
      },
      "source": [
        "Some assumptions and magic is being done here:\n",
        "* Loss function is assumed as classification (from the `DataLoaders`), so `CrossEntropyLossFlat` is being used\n",
        "* By default the optimizer is Adam\n",
        "* A custom head was added onto our ResNet body, with the body's weights being frozen"
      ]
    },
    {
      "cell_type": "code",
      "source": [
        "learn.summary()"
      ],
      "metadata": {
        "id": "Jmexa-ch4f6-"
      },
      "execution_count": null,
      "outputs": []
    },
    {
      "cell_type": "markdown",
      "metadata": {
        "id": "jE6DkGwwgSrH"
      },
      "source": [
        "Now we can train it! We will train for one cycle through all our data:"
      ]
    },
    {
      "cell_type": "code",
      "execution_count": 113,
      "metadata": {
        "colab": {
          "base_uri": "https://localhost:8080/",
          "height": 81
        },
        "id": "Kb4H_IOHgSrH",
        "outputId": "dcff1a70-d770-45a5-f789-e9ca50d0d1a9"
      },
      "outputs": [
        {
          "output_type": "display_data",
          "data": {
            "text/plain": [
              "<IPython.core.display.HTML object>"
            ],
            "text/html": [
              "\n",
              "<style>\n",
              "    /* Turns off some styling */\n",
              "    progress {\n",
              "        /* gets rid of default border in Firefox and Opera. */\n",
              "        border: none;\n",
              "        /* Needs to be in here for Safari polyfill so background images work as expected. */\n",
              "        background-size: auto;\n",
              "    }\n",
              "    progress:not([value]), progress:not([value])::-webkit-progress-bar {\n",
              "        background: repeating-linear-gradient(45deg, #7e7e7e, #7e7e7e 10px, #5c5c5c 10px, #5c5c5c 20px);\n",
              "    }\n",
              "    .progress-bar-interrupted, .progress-bar-interrupted::-webkit-progress-bar {\n",
              "        background: #F44336;\n",
              "    }\n",
              "</style>\n"
            ]
          },
          "metadata": {}
        },
        {
          "output_type": "display_data",
          "data": {
            "text/plain": [
              "<IPython.core.display.HTML object>"
            ],
            "text/html": [
              "<table border=\"1\" class=\"dataframe\">\n",
              "  <thead>\n",
              "    <tr style=\"text-align: left;\">\n",
              "      <th>epoch</th>\n",
              "      <th>train_loss</th>\n",
              "      <th>valid_loss</th>\n",
              "      <th>error_rate</th>\n",
              "      <th>time</th>\n",
              "    </tr>\n",
              "  </thead>\n",
              "  <tbody>\n",
              "    <tr>\n",
              "      <td>0</td>\n",
              "      <td>1.154540</td>\n",
              "      <td>0.402422</td>\n",
              "      <td>0.131258</td>\n",
              "      <td>01:18</td>\n",
              "    </tr>\n",
              "  </tbody>\n",
              "</table>"
            ]
          },
          "metadata": {}
        }
      ],
      "source": [
        "learn.fit_one_cycle(1)"
      ]
    },
    {
      "cell_type": "markdown",
      "metadata": {
        "id": "4TFrncyIgSrI"
      },
      "source": [
        "Afterwards we can *unfreeze* those frozen weights and train a little more. We'll utilize the `Learner.lr_find` function to help us decide a good learning rate: "
      ]
    },
    {
      "cell_type": "code",
      "execution_count": 114,
      "metadata": {
        "colab": {
          "base_uri": "https://localhost:8080/",
          "height": 300
        },
        "id": "nexw39tmgSrI",
        "outputId": "be8588e7-2c80-4a7f-ba42-e2923211acc4"
      },
      "outputs": [
        {
          "output_type": "display_data",
          "data": {
            "text/plain": [
              "<IPython.core.display.HTML object>"
            ],
            "text/html": [
              "\n",
              "<style>\n",
              "    /* Turns off some styling */\n",
              "    progress {\n",
              "        /* gets rid of default border in Firefox and Opera. */\n",
              "        border: none;\n",
              "        /* Needs to be in here for Safari polyfill so background images work as expected. */\n",
              "        background-size: auto;\n",
              "    }\n",
              "    progress:not([value]), progress:not([value])::-webkit-progress-bar {\n",
              "        background: repeating-linear-gradient(45deg, #7e7e7e, #7e7e7e 10px, #5c5c5c 10px, #5c5c5c 20px);\n",
              "    }\n",
              "    .progress-bar-interrupted, .progress-bar-interrupted::-webkit-progress-bar {\n",
              "        background: #F44336;\n",
              "    }\n",
              "</style>\n"
            ]
          },
          "metadata": {}
        },
        {
          "output_type": "display_data",
          "data": {
            "text/plain": [
              "<IPython.core.display.HTML object>"
            ],
            "text/html": []
          },
          "metadata": {}
        },
        {
          "output_type": "execute_result",
          "data": {
            "text/plain": [
              "SuggestedLRs(valley=0.002511886414140463)"
            ]
          },
          "metadata": {},
          "execution_count": 114
        },
        {
          "output_type": "display_data",
          "data": {
            "text/plain": [
              "<Figure size 432x288 with 1 Axes>"
            ],
            "image/png": "[encoded data removed]"
          },
          "metadata": {
            "needs_background": "light"
          }
        }
      ],
      "source": [
        "learn.lr_find()"
      ]
    },
    {
      "cell_type": "code",
      "source": [
        "learn.export('model1.pkl')"
      ],
      "metadata": {
        "id": "9DZpIoKE6LJ-"
      },
      "execution_count": 116,
      "outputs": []
    },
    {
      "cell_type": "code",
      "source": [
        "saved=load_learner('/content/model1.pkl')"
      ],
      "metadata": {
        "id": "MmGjNCje67Rg"
      },
      "execution_count": 117,
      "outputs": []
    },
    {
      "cell_type": "markdown",
      "metadata": {
        "id": "GCdovhiRgSrJ"
      },
      "source": [
        "Alright so if we look here, we don't really start seeing a spike in our losses until we get close to 1e-2, so a good section to train on is between 1e-4 and 1e-3, so we'll do that!"
      ]
    },
    {
      "cell_type": "code",
      "execution_count": null,
      "metadata": {
        "id": "8ZWi7TXhgSrJ",
        "outputId": "764bdac2-6e83-4c82-d656-ba1231fcef6f"
      },
      "outputs": [
        {
          "data": {
            "text/html": [
              "<table border=\"1\" class=\"dataframe\">\n",
              "  <thead>\n",
              "    <tr style=\"text-align: left;\">\n",
              "      <th>epoch</th>\n",
              "      <th>train_loss</th>\n",
              "      <th>valid_loss</th>\n",
              "      <th>error_rate</th>\n",
              "      <th>time</th>\n",
              "    </tr>\n",
              "  </thead>\n",
              "  <tbody>\n",
              "    <tr>\n",
              "      <td>0</td>\n",
              "      <td>0.627381</td>\n",
              "      <td>0.798733</td>\n",
              "      <td>0.234100</td>\n",
              "      <td>00:27</td>\n",
              "    </tr>\n",
              "    <tr>\n",
              "      <td>1</td>\n",
              "      <td>0.556349</td>\n",
              "      <td>0.454100</td>\n",
              "      <td>0.144114</td>\n",
              "      <td>00:27</td>\n",
              "    </tr>\n",
              "    <tr>\n",
              "      <td>2</td>\n",
              "      <td>0.309109</td>\n",
              "      <td>0.257731</td>\n",
              "      <td>0.083897</td>\n",
              "      <td>00:27</td>\n",
              "    </tr>\n",
              "    <tr>\n",
              "      <td>3</td>\n",
              "      <td>0.146716</td>\n",
              "      <td>0.221774</td>\n",
              "      <td>0.072395</td>\n",
              "      <td>00:27</td>\n",
              "    </tr>\n",
              "  </tbody>\n",
              "</table>"
            ],
            "text/plain": [
              "<IPython.core.display.HTML object>"
            ]
          },
          "metadata": {},
          "output_type": "display_data"
        }
      ],
      "source": [
        "learn.unfreeze()\n",
        "learn.fit_one_cycle(4, lr_max=slice(1e-4, 1e-3))"
      ]
    },
    {
      "cell_type": "markdown",
      "metadata": {
        "id": "NX8lspfAgSrJ"
      },
      "source": [
        "And now we have a fully trained model! At the start we set a goal: to beat 59% accuracy usin gonly the image inputs. \n",
        "\n",
        "We more than succeeded, achieving 94% accuracy while training for only five epochs!\n",
        "\n",
        "To use such a model in production, examples of `learn.predict` and `learn.get_preds` with `test_dl` are shown below:"
      ]
    },
    {
      "cell_type": "code",
      "source": [
        "fname=fnames[10]\n",
        "fname"
      ],
      "metadata": {
        "id": "4lO_jzZR437D",
        "outputId": "55e8a6ab-6482-49a0-f38a-d4cdee085806",
        "colab": {
          "base_uri": "https://localhost:8080/"
        }
      },
      "execution_count": 122,
      "outputs": [
        {
          "output_type": "execute_result",
          "data": {
            "text/plain": [
              "Path('/root/.fastai/data/oxford-iiit-pet/images/Abyssinian_133.jpg')"
            ]
          },
          "metadata": {},
          "execution_count": 122
        }
      ]
    },
    {
      "cell_type": "code",
      "execution_count": 123,
      "metadata": {
        "colab": {
          "base_uri": "https://localhost:8080/",
          "height": 35
        },
        "id": "Rr2Al6D5gSrK",
        "outputId": "4d9fbcb5-a543-4e97-e457-88a03e044faa"
      },
      "outputs": [
        {
          "output_type": "display_data",
          "data": {
            "text/plain": [
              "<IPython.core.display.HTML object>"
            ],
            "text/html": [
              "\n",
              "<style>\n",
              "    /* Turns off some styling */\n",
              "    progress {\n",
              "        /* gets rid of default border in Firefox and Opera. */\n",
              "        border: none;\n",
              "        /* Needs to be in here for Safari polyfill so background images work as expected. */\n",
              "        background-size: auto;\n",
              "    }\n",
              "    progress:not([value]), progress:not([value])::-webkit-progress-bar {\n",
              "        background: repeating-linear-gradient(45deg, #7e7e7e, #7e7e7e 10px, #5c5c5c 10px, #5c5c5c 20px);\n",
              "    }\n",
              "    .progress-bar-interrupted, .progress-bar-interrupted::-webkit-progress-bar {\n",
              "        background: #F44336;\n",
              "    }\n",
              "</style>\n"
            ]
          },
          "metadata": {}
        },
        {
          "output_type": "display_data",
          "data": {
            "text/plain": [
              "<IPython.core.display.HTML object>"
            ],
            "text/html": []
          },
          "metadata": {}
        },
        {
          "output_type": "execute_result",
          "data": {
            "text/plain": [
              "'Abyssinian'"
            ],
            "application/vnd.google.colaboratory.intrinsic+json": {
              "type": "string"
            }
          },
          "metadata": {},
          "execution_count": 123
        }
      ],
      "source": [
        "clas, clas_idx, probs = saved.predict(fname); clas"
      ]
    },
    {
      "cell_type": "code",
      "execution_count": 110,
      "metadata": {
        "colab": {
          "base_uri": "https://localhost:8080/",
          "height": 17
        },
        "id": "SfDi_QW6gSrK",
        "outputId": "7a0847ad-d848-41a1-c312-d7fe680ffc95"
      },
      "outputs": [
        {
          "output_type": "display_data",
          "data": {
            "text/plain": [
              "<IPython.core.display.HTML object>"
            ],
            "text/html": [
              "\n",
              "<style>\n",
              "    /* Turns off some styling */\n",
              "    progress {\n",
              "        /* gets rid of default border in Firefox and Opera. */\n",
              "        border: none;\n",
              "        /* Needs to be in here for Safari polyfill so background images work as expected. */\n",
              "        background-size: auto;\n",
              "    }\n",
              "    progress:not([value]), progress:not([value])::-webkit-progress-bar {\n",
              "        background: repeating-linear-gradient(45deg, #7e7e7e, #7e7e7e 10px, #5c5c5c 10px, #5c5c5c 20px);\n",
              "    }\n",
              "    .progress-bar-interrupted, .progress-bar-interrupted::-webkit-progress-bar {\n",
              "        background: #F44336;\n",
              "    }\n",
              "</style>\n"
            ]
          },
          "metadata": {}
        },
        {
          "output_type": "display_data",
          "data": {
            "text/plain": [
              "<IPython.core.display.HTML object>"
            ],
            "text/html": []
          },
          "metadata": {}
        }
      ],
      "source": [
        "test_dl = learn.dls.test_dl(fnames[:10])\n",
        "preds = learn.get_preds(dl=test_dl)"
      ]
    },
    {
      "cell_type": "markdown",
      "metadata": {
        "id": "jEnqz19pgSrK"
      },
      "source": [
        "To get the class names decoded we can do the following:"
      ]
    },
    {
      "cell_type": "code",
      "execution_count": 111,
      "metadata": {
        "id": "TIOjmbVzgSrK"
      },
      "outputs": [],
      "source": [
        "class_idxs = preds[0].argmax(dim=0)\n",
        "res = [dls.vocab[c] for c in class_idxs]"
      ]
    },
    {
      "cell_type": "code",
      "execution_count": 112,
      "metadata": {
        "colab": {
          "base_uri": "https://localhost:8080/"
        },
        "id": "STJPu9FIgSrL",
        "outputId": "9663018d-8611-4f81-9430-c9a0a44fec08"
      },
      "outputs": [
        {
          "output_type": "execute_result",
          "data": {
            "text/plain": [
              "['Bengal',\n",
              " 'Bengal',\n",
              " 'Abyssinian',\n",
              " 'Bombay',\n",
              " 'British_Shorthair',\n",
              " 'Bengal',\n",
              " 'British_Shorthair',\n",
              " 'Maine_Coon',\n",
              " 'Abyssinian',\n",
              " 'Bengal']"
            ]
          },
          "metadata": {},
          "execution_count": 112
        }
      ],
      "source": [
        "res[:10]"
      ]
    }
  ],
  "metadata": {
    "kernelspec": {
      "display_name": "Python 3",
      "language": "python",
      "name": "python3"
    },
    "colab": {
      "provenance": []
    },
    "accelerator": "GPU",
    "gpuClass": "standard",
    "widgets": {
      "application/vnd.jupyter.widget-state+json": {
        "cbae00172cd547928f874c9f345a3f2b": {
          "model_module": "@jupyter-widgets/controls",
          "model_name": "HBoxModel",
          "model_module_version": "1.5.0",
          "state": {
            "_dom_classes": [],
            "_model_module": "@jupyter-widgets/controls",
            "_model_module_version": "1.5.0",
            "_model_name": "HBoxModel",
            "_view_count": null,
            "_view_module": "@jupyter-widgets/controls",
            "_view_module_version": "1.5.0",
            "_view_name": "HBoxView",
            "box_style": "",
            "children": [
              "IPY_MODEL_2edd3c84ffe34fc5b47e2afdbddde33f",
              "IPY_MODEL_8139635b96234239871e352e7e60ccf9",
              "IPY_MODEL_11c57f26f37e4d1196f349254b5d32c6"
            ],
            "layout": "IPY_MODEL_628980ff6f01405b92f27a990b36f836"
          }
        },
        "2edd3c84ffe34fc5b47e2afdbddde33f": {
          "model_module": "@jupyter-widgets/controls",
          "model_name": "HTMLModel",
          "model_module_version": "1.5.0",
          "state": {
            "_dom_classes": [],
            "_model_module": "@jupyter-widgets/controls",
            "_model_module_version": "1.5.0",
            "_model_name": "HTMLModel",
            "_view_count": null,
            "_view_module": "@jupyter-widgets/controls",
            "_view_module_version": "1.5.0",
            "_view_name": "HTMLView",
            "description": "",
            "description_tooltip": null,
            "layout": "IPY_MODEL_204c8fe5eb74420693fa993f503b8269",
            "placeholder": "​",
            "style": "IPY_MODEL_55d40d3e021f40ab9e617e31ec493c43",
            "value": "100%"
          }
        },
        "8139635b96234239871e352e7e60ccf9": {
          "model_module": "@jupyter-widgets/controls",
          "model_name": "FloatProgressModel",
          "model_module_version": "1.5.0",
          "state": {
            "_dom_classes": [],
            "_model_module": "@jupyter-widgets/controls",
            "_model_module_version": "1.5.0",
            "_model_name": "FloatProgressModel",
            "_view_count": null,
            "_view_module": "@jupyter-widgets/controls",
            "_view_module_version": "1.5.0",
            "_view_name": "ProgressView",
            "bar_style": "success",
            "description": "",
            "description_tooltip": null,
            "layout": "IPY_MODEL_9b3e601b4c9f4ca9be8458240ba1cf41",
            "max": 87319819,
            "min": 0,
            "orientation": "horizontal",
            "style": "IPY_MODEL_9bced4d9672c4d8badd70a64ac49583d",
            "value": 87319819
          }
        },
        "11c57f26f37e4d1196f349254b5d32c6": {
          "model_module": "@jupyter-widgets/controls",
          "model_name": "HTMLModel",
          "model_module_version": "1.5.0",
          "state": {
            "_dom_classes": [],
            "_model_module": "@jupyter-widgets/controls",
            "_model_module_version": "1.5.0",
            "_model_name": "HTMLModel",
            "_view_count": null,
            "_view_module": "@jupyter-widgets/controls",
            "_view_module_version": "1.5.0",
            "_view_name": "HTMLView",
            "description": "",
            "description_tooltip": null,
            "layout": "IPY_MODEL_e805edb098404d079f9c39dc9a9207d4",
            "placeholder": "​",
            "style": "IPY_MODEL_4515707c4d264036bc57e54edfbfe4f3",
            "value": " 83.3M/83.3M [00:00&lt;00:00, 197MB/s]"
          }
        },
        "628980ff6f01405b92f27a990b36f836": {
          "model_module": "@jupyter-widgets/base",
          "model_name": "LayoutModel",
          "model_module_version": "1.2.0",
          "state": {
            "_model_module": "@jupyter-widgets/base",
            "_model_module_version": "1.2.0",
            "_model_name": "LayoutModel",
            "_view_count": null,
            "_view_module": "@jupyter-widgets/base",
            "_view_module_version": "1.2.0",
            "_view_name": "LayoutView",
            "align_content": null,
            "align_items": null,
            "align_self": null,
            "border": null,
            "bottom": null,
            "display": null,
            "flex": null,
            "flex_flow": null,
            "grid_area": null,
            "grid_auto_columns": null,
            "grid_auto_flow": null,
            "grid_auto_rows": null,
            "grid_column": null,
            "grid_gap": null,
            "grid_row": null,
            "grid_template_areas": null,
            "grid_template_columns": null,
            "grid_template_rows": null,
            "height": null,
            "justify_content": null,
            "justify_items": null,
            "left": null,
            "margin": null,
            "max_height": null,
            "max_width": null,
            "min_height": null,
            "min_width": null,
            "object_fit": null,
            "object_position": null,
            "order": null,
            "overflow": null,
            "overflow_x": null,
            "overflow_y": null,
            "padding": null,
            "right": null,
            "top": null,
            "visibility": null,
            "width": null
          }
        },
        "204c8fe5eb74420693fa993f503b8269": {
          "model_module": "@jupyter-widgets/base",
          "model_name": "LayoutModel",
          "model_module_version": "1.2.0",
          "state": {
            "_model_module": "@jupyter-widgets/base",
            "_model_module_version": "1.2.0",
            "_model_name": "LayoutModel",
            "_view_count": null,
            "_view_module": "@jupyter-widgets/base",
            "_view_module_version": "1.2.0",
            "_view_name": "LayoutView",
            "align_content": null,
            "align_items": null,
            "align_self": null,
            "border": null,
            "bottom": null,
            "display": null,
            "flex": null,
            "flex_flow": null,
            "grid_area": null,
            "grid_auto_columns": null,
            "grid_auto_flow": null,
            "grid_auto_rows": null,
            "grid_column": null,
            "grid_gap": null,
            "grid_row": null,
            "grid_template_areas": null,
            "grid_template_columns": null,
            "grid_template_rows": null,
            "height": null,
            "justify_content": null,
            "justify_items": null,
            "left": null,
            "margin": null,
            "max_height": null,
            "max_width": null,
            "min_height": null,
            "min_width": null,
            "object_fit": null,
            "object_position": null,
            "order": null,
            "overflow": null,
            "overflow_x": null,
            "overflow_y": null,
            "padding": null,
            "right": null,
            "top": null,
            "visibility": null,
            "width": null
          }
        },
        "55d40d3e021f40ab9e617e31ec493c43": {
          "model_module": "@jupyter-widgets/controls",
          "model_name": "DescriptionStyleModel",
          "model_module_version": "1.5.0",
          "state": {
            "_model_module": "@jupyter-widgets/controls",
            "_model_module_version": "1.5.0",
            "_model_name": "DescriptionStyleModel",
            "_view_count": null,
            "_view_module": "@jupyter-widgets/base",
            "_view_module_version": "1.2.0",
            "_view_name": "StyleView",
            "description_width": ""
          }
        },
        "9b3e601b4c9f4ca9be8458240ba1cf41": {
          "model_module": "@jupyter-widgets/base",
          "model_name": "LayoutModel",
          "model_module_version": "1.2.0",
          "state": {
            "_model_module": "@jupyter-widgets/base",
            "_model_module_version": "1.2.0",
            "_model_name": "LayoutModel",
            "_view_count": null,
            "_view_module": "@jupyter-widgets/base",
            "_view_module_version": "1.2.0",
            "_view_name": "LayoutView",
            "align_content": null,
            "align_items": null,
            "align_self": null,
            "border": null,
            "bottom": null,
            "display": null,
            "flex": null,
            "flex_flow": null,
            "grid_area": null,
            "grid_auto_columns": null,
            "grid_auto_flow": null,
            "grid_auto_rows": null,
            "grid_column": null,
            "grid_gap": null,
            "grid_row": null,
            "grid_template_areas": null,
            "grid_template_columns": null,
            "grid_template_rows": null,
            "height": null,
            "justify_content": null,
            "justify_items": null,
            "left": null,
            "margin": null,
            "max_height": null,
            "max_width": null,
            "min_height": null,
            "min_width": null,
            "object_fit": null,
            "object_position": null,
            "order": null,
            "overflow": null,
            "overflow_x": null,
            "overflow_y": null,
            "padding": null,
            "right": null,
            "top": null,
            "visibility": null,
            "width": null
          }
        },
        "9bced4d9672c4d8badd70a64ac49583d": {
          "model_module": "@jupyter-widgets/controls",
          "model_name": "ProgressStyleModel",
          "model_module_version": "1.5.0",
          "state": {
            "_model_module": "@jupyter-widgets/controls",
            "_model_module_version": "1.5.0",
            "_model_name": "ProgressStyleModel",
            "_view_count": null,
            "_view_module": "@jupyter-widgets/base",
            "_view_module_version": "1.2.0",
            "_view_name": "StyleView",
            "bar_color": null,
            "description_width": ""
          }
        },
        "e805edb098404d079f9c39dc9a9207d4": {
          "model_module": "@jupyter-widgets/base",
          "model_name": "LayoutModel",
          "model_module_version": "1.2.0",
          "state": {
            "_model_module": "@jupyter-widgets/base",
            "_model_module_version": "1.2.0",
            "_model_name": "LayoutModel",
            "_view_count": null,
            "_view_module": "@jupyter-widgets/base",
            "_view_module_version": "1.2.0",
            "_view_name": "LayoutView",
            "align_content": null,
            "align_items": null,
            "align_self": null,
            "border": null,
            "bottom": null,
            "display": null,
            "flex": null,
            "flex_flow": null,
            "grid_area": null,
            "grid_auto_columns": null,
            "grid_auto_flow": null,
            "grid_auto_rows": null,
            "grid_column": null,
            "grid_gap": null,
            "grid_row": null,
            "grid_template_areas": null,
            "grid_template_columns": null,
            "grid_template_rows": null,
            "height": null,
            "justify_content": null,
            "justify_items": null,
            "left": null,
            "margin": null,
            "max_height": null,
            "max_width": null,
            "min_height": null,
            "min_width": null,
            "object_fit": null,
            "object_position": null,
            "order": null,
            "overflow": null,
            "overflow_x": null,
            "overflow_y": null,
            "padding": null,
            "right": null,
            "top": null,
            "visibility": null,
            "width": null
          }
        },
        "4515707c4d264036bc57e54edfbfe4f3": {
          "model_module": "@jupyter-widgets/controls",
          "model_name": "DescriptionStyleModel",
          "model_module_version": "1.5.0",
          "state": {
            "_model_module": "@jupyter-widgets/controls",
            "_model_module_version": "1.5.0",
            "_model_name": "DescriptionStyleModel",
            "_view_count": null,
            "_view_module": "@jupyter-widgets/base",
            "_view_module_version": "1.2.0",
            "_view_name": "StyleView",
            "description_width": ""
          }
        }
      }
    }
  },
  "nbformat": 4,
  "nbformat_minor": 0
}